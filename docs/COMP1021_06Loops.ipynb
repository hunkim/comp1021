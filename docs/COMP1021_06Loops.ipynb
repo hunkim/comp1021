{
  "nbformat": 4,
  "nbformat_minor": 0,
  "metadata": {
    "colab": {
      "name": "COMP1021-06Loops",
      "version": "0.3.2",
      "provenance": [],
      "collapsed_sections": [],
      "include_colab_link": true
    },
    "kernelspec": {
      "name": "python3",
      "display_name": "Python 3"
    }
  },
  "cells": [
    {
      "cell_type": "markdown",
      "metadata": {
        "id": "view-in-github",
        "colab_type": "text"
      },
      "source": [
        "<a href=\"https://colab.research.google.com/github/hunkim/comp1021/blob/master/docs/COMP1021_06Loops.ipynb\" target=\"_parent\"><img src=\"https://colab.research.google.com/assets/colab-badge.svg\" alt=\"Open In Colab\"/></a>"
      ]
    },
    {
      "cell_type": "markdown",
      "metadata": {
        "id": "-oWEsOutM8tP",
        "colab_type": "text"
      },
      "source": [
        "# ReCAP\n",
        "* Program: input->{program}->output\n",
        "* Variable and type\n",
        "* import\n",
        "* if condition: if, elif, else, and indentation\n",
        "\n",
        "# AI Video\n",
        "[![DUPLEX](http://img.youtube.com/vi/D5VN56jQMWM/0.jpg)](http://www.youtube.com/watch?v=D5VN56jQMWM&t=40)\n",
        "\n",
        "# Loops\n",
        "\n",
        "### Gibson Lam, Sung Kim and David Rossiter\n",
        "\n",
        "## Run till Sunset\n",
        "* Run while sun is up\n",
        "![image](https://user-images.githubusercontent.com/901975/64469103-33a41380-d15f-11e9-90f7-1f1c253b5a74.png)\n",
        "\n",
        "\n",
        "## Outcomes\n",
        "#### After completing this presentation, you are expected to be able to:\n",
        "1. Write loops using the while command\n",
        "1. Work with conditions using logical operators\n",
        "1. Write code using nested loops\n",
        "\n",
        "## Loops\n",
        "* You can write loops in Python to do things repeatedly\n",
        "* Looping is a very useful feature because it makes repetitive work easier\n",
        "* For example, you can use loops to generate a chess board\n",
        "* In this presentation we look at while loops which are a common way to do looping in Python\n",
        "![image](https://user-images.githubusercontent.com/901975/64481557-47f41900-d210-11e9-9733-0f6587f2d230.png)\n",
        "\n",
        "## While Loops\n",
        "```python\n",
        "while . . .condition. . . :\n",
        "    . . .statement(s). . .\n",
        "```\n",
        "\n",
        "* While condition is true, repeatedly execute statement(s)\n",
        "* A statement is a Python instruction\n",
        "* When condition is false, the while loop finishes\n",
        "\n",
        "## The Flor of a While Loop\n",
        "![image](https://user-images.githubusercontent.com/901975/64469139-aca36b00-d15f-11e9-976f-95b779cbf203.png)\n",
        "\n",
        "## The First While Loop Example\n",
        "* The following example keeps asking a yes/no question until the response is 'y'\n",
        "\n"
      ]
    },
    {
      "cell_type": "code",
      "metadata": {
        "id": "ZTA1fUjdM4BH",
        "colab_type": "code",
        "outputId": "1f08c4b2-706d-4e19-92c0-0d859a749d82",
        "colab": {
          "base_uri": "https://localhost:8080/",
          "height": 523
        }
      },
      "source": [
        "print(\"Sung is Great!\")\n",
        "\n",
        "response = ''\n",
        "\n",
        "while response != 'y':  # <- You need the  : (colon) here\n",
        "    response = input('Do you agree, OK? (y/n) ') \n",
        "    # Code inside the loop must be indented\n",
        "    # Do you know why?\n",
        "\n",
        "\n",
        "print(\"Good job!\")"
      ],
      "execution_count": 0,
      "outputs": [
        {
          "output_type": "stream",
          "text": [
            "Sung is Great!\n"
          ],
          "name": "stdout"
        },
        {
          "output_type": "error",
          "ename": "KeyboardInterrupt",
          "evalue": "ignored",
          "traceback": [
            "\u001b[0;31m---------------------------------------------------------------------------\u001b[0m",
            "\u001b[0;31mKeyboardInterrupt\u001b[0m                         Traceback (most recent call last)",
            "\u001b[0;32m/usr/local/lib/python3.6/dist-packages/ipykernel/kernelbase.py\u001b[0m in \u001b[0;36m_input_request\u001b[0;34m(self, prompt, ident, parent, password)\u001b[0m\n\u001b[1;32m    729\u001b[0m             \u001b[0;32mtry\u001b[0m\u001b[0;34m:\u001b[0m\u001b[0;34m\u001b[0m\u001b[0;34m\u001b[0m\u001b[0m\n\u001b[0;32m--> 730\u001b[0;31m                 \u001b[0mident\u001b[0m\u001b[0;34m,\u001b[0m \u001b[0mreply\u001b[0m \u001b[0;34m=\u001b[0m \u001b[0mself\u001b[0m\u001b[0;34m.\u001b[0m\u001b[0msession\u001b[0m\u001b[0;34m.\u001b[0m\u001b[0mrecv\u001b[0m\u001b[0;34m(\u001b[0m\u001b[0mself\u001b[0m\u001b[0;34m.\u001b[0m\u001b[0mstdin_socket\u001b[0m\u001b[0;34m,\u001b[0m \u001b[0;36m0\u001b[0m\u001b[0;34m)\u001b[0m\u001b[0;34m\u001b[0m\u001b[0;34m\u001b[0m\u001b[0m\n\u001b[0m\u001b[1;32m    731\u001b[0m             \u001b[0;32mexcept\u001b[0m \u001b[0mException\u001b[0m\u001b[0;34m:\u001b[0m\u001b[0;34m\u001b[0m\u001b[0;34m\u001b[0m\u001b[0m\n",
            "\u001b[0;32m/usr/local/lib/python3.6/dist-packages/jupyter_client/session.py\u001b[0m in \u001b[0;36mrecv\u001b[0;34m(self, socket, mode, content, copy)\u001b[0m\n\u001b[1;32m    802\u001b[0m         \u001b[0;32mtry\u001b[0m\u001b[0;34m:\u001b[0m\u001b[0;34m\u001b[0m\u001b[0;34m\u001b[0m\u001b[0m\n\u001b[0;32m--> 803\u001b[0;31m             \u001b[0mmsg_list\u001b[0m \u001b[0;34m=\u001b[0m \u001b[0msocket\u001b[0m\u001b[0;34m.\u001b[0m\u001b[0mrecv_multipart\u001b[0m\u001b[0;34m(\u001b[0m\u001b[0mmode\u001b[0m\u001b[0;34m,\u001b[0m \u001b[0mcopy\u001b[0m\u001b[0;34m=\u001b[0m\u001b[0mcopy\u001b[0m\u001b[0;34m)\u001b[0m\u001b[0;34m\u001b[0m\u001b[0;34m\u001b[0m\u001b[0m\n\u001b[0m\u001b[1;32m    804\u001b[0m         \u001b[0;32mexcept\u001b[0m \u001b[0mzmq\u001b[0m\u001b[0;34m.\u001b[0m\u001b[0mZMQError\u001b[0m \u001b[0;32mas\u001b[0m \u001b[0me\u001b[0m\u001b[0;34m:\u001b[0m\u001b[0;34m\u001b[0m\u001b[0;34m\u001b[0m\u001b[0m\n",
            "\u001b[0;32m/usr/local/lib/python3.6/dist-packages/zmq/sugar/socket.py\u001b[0m in \u001b[0;36mrecv_multipart\u001b[0;34m(self, flags, copy, track)\u001b[0m\n\u001b[1;32m    465\u001b[0m         \"\"\"\n\u001b[0;32m--> 466\u001b[0;31m         \u001b[0mparts\u001b[0m \u001b[0;34m=\u001b[0m \u001b[0;34m[\u001b[0m\u001b[0mself\u001b[0m\u001b[0;34m.\u001b[0m\u001b[0mrecv\u001b[0m\u001b[0;34m(\u001b[0m\u001b[0mflags\u001b[0m\u001b[0;34m,\u001b[0m \u001b[0mcopy\u001b[0m\u001b[0;34m=\u001b[0m\u001b[0mcopy\u001b[0m\u001b[0;34m,\u001b[0m \u001b[0mtrack\u001b[0m\u001b[0;34m=\u001b[0m\u001b[0mtrack\u001b[0m\u001b[0;34m)\u001b[0m\u001b[0;34m]\u001b[0m\u001b[0;34m\u001b[0m\u001b[0;34m\u001b[0m\u001b[0m\n\u001b[0m\u001b[1;32m    467\u001b[0m         \u001b[0;31m# have first part already, only loop while more to receive\u001b[0m\u001b[0;34m\u001b[0m\u001b[0;34m\u001b[0m\u001b[0;34m\u001b[0m\u001b[0m\n",
            "\u001b[0;32mzmq/backend/cython/socket.pyx\u001b[0m in \u001b[0;36mzmq.backend.cython.socket.Socket.recv\u001b[0;34m()\u001b[0m\n",
            "\u001b[0;32mzmq/backend/cython/socket.pyx\u001b[0m in \u001b[0;36mzmq.backend.cython.socket.Socket.recv\u001b[0;34m()\u001b[0m\n",
            "\u001b[0;32mzmq/backend/cython/socket.pyx\u001b[0m in \u001b[0;36mzmq.backend.cython.socket._recv_copy\u001b[0;34m()\u001b[0m\n",
            "\u001b[0;32m/usr/local/lib/python3.6/dist-packages/zmq/backend/cython/checkrc.pxd\u001b[0m in \u001b[0;36mzmq.backend.cython.checkrc._check_rc\u001b[0;34m()\u001b[0m\n",
            "\u001b[0;31mKeyboardInterrupt\u001b[0m: ",
            "\nDuring handling of the above exception, another exception occurred:\n",
            "\u001b[0;31mKeyboardInterrupt\u001b[0m                         Traceback (most recent call last)",
            "\u001b[0;32m<ipython-input-20-4121a61bec24>\u001b[0m in \u001b[0;36m<module>\u001b[0;34m()\u001b[0m\n\u001b[1;32m      4\u001b[0m \u001b[0;34m\u001b[0m\u001b[0m\n\u001b[1;32m      5\u001b[0m \u001b[0;32mwhile\u001b[0m \u001b[0mresponse\u001b[0m \u001b[0;34m!=\u001b[0m \u001b[0;34m'y'\u001b[0m\u001b[0;34m:\u001b[0m  \u001b[0;31m# <- You need the  : (colon) here\u001b[0m\u001b[0;34m\u001b[0m\u001b[0;34m\u001b[0m\u001b[0m\n\u001b[0;32m----> 6\u001b[0;31m     \u001b[0mresponse\u001b[0m \u001b[0;34m=\u001b[0m \u001b[0minput\u001b[0m\u001b[0;34m(\u001b[0m\u001b[0;34m'Do you agree, OK? (y/n) '\u001b[0m\u001b[0;34m)\u001b[0m\u001b[0;34m\u001b[0m\u001b[0;34m\u001b[0m\u001b[0m\n\u001b[0m\u001b[1;32m      7\u001b[0m     \u001b[0;31m# Code inside the loop must be indented\u001b[0m\u001b[0;34m\u001b[0m\u001b[0;34m\u001b[0m\u001b[0;34m\u001b[0m\u001b[0m\n\u001b[1;32m      8\u001b[0m     \u001b[0;31m# Do you know why?\u001b[0m\u001b[0;34m\u001b[0m\u001b[0;34m\u001b[0m\u001b[0;34m\u001b[0m\u001b[0m\n",
            "\u001b[0;32m/usr/local/lib/python3.6/dist-packages/ipykernel/kernelbase.py\u001b[0m in \u001b[0;36mraw_input\u001b[0;34m(self, prompt)\u001b[0m\n\u001b[1;32m    703\u001b[0m             \u001b[0mself\u001b[0m\u001b[0;34m.\u001b[0m\u001b[0m_parent_ident\u001b[0m\u001b[0;34m,\u001b[0m\u001b[0;34m\u001b[0m\u001b[0;34m\u001b[0m\u001b[0m\n\u001b[1;32m    704\u001b[0m             \u001b[0mself\u001b[0m\u001b[0;34m.\u001b[0m\u001b[0m_parent_header\u001b[0m\u001b[0;34m,\u001b[0m\u001b[0;34m\u001b[0m\u001b[0;34m\u001b[0m\u001b[0m\n\u001b[0;32m--> 705\u001b[0;31m             \u001b[0mpassword\u001b[0m\u001b[0;34m=\u001b[0m\u001b[0;32mFalse\u001b[0m\u001b[0;34m,\u001b[0m\u001b[0;34m\u001b[0m\u001b[0;34m\u001b[0m\u001b[0m\n\u001b[0m\u001b[1;32m    706\u001b[0m         )\n\u001b[1;32m    707\u001b[0m \u001b[0;34m\u001b[0m\u001b[0m\n",
            "\u001b[0;32m/usr/local/lib/python3.6/dist-packages/ipykernel/kernelbase.py\u001b[0m in \u001b[0;36m_input_request\u001b[0;34m(self, prompt, ident, parent, password)\u001b[0m\n\u001b[1;32m    733\u001b[0m             \u001b[0;32mexcept\u001b[0m \u001b[0mKeyboardInterrupt\u001b[0m\u001b[0;34m:\u001b[0m\u001b[0;34m\u001b[0m\u001b[0;34m\u001b[0m\u001b[0m\n\u001b[1;32m    734\u001b[0m                 \u001b[0;31m# re-raise KeyboardInterrupt, to truncate traceback\u001b[0m\u001b[0;34m\u001b[0m\u001b[0;34m\u001b[0m\u001b[0;34m\u001b[0m\u001b[0m\n\u001b[0;32m--> 735\u001b[0;31m                 \u001b[0;32mraise\u001b[0m \u001b[0mKeyboardInterrupt\u001b[0m\u001b[0;34m\u001b[0m\u001b[0;34m\u001b[0m\u001b[0m\n\u001b[0m\u001b[1;32m    736\u001b[0m             \u001b[0;32melse\u001b[0m\u001b[0;34m:\u001b[0m\u001b[0;34m\u001b[0m\u001b[0;34m\u001b[0m\u001b[0m\n\u001b[1;32m    737\u001b[0m                 \u001b[0;32mbreak\u001b[0m\u001b[0;34m\u001b[0m\u001b[0;34m\u001b[0m\u001b[0m\n",
            "\u001b[0;31mKeyboardInterrupt\u001b[0m: "
          ]
        }
      ]
    },
    {
      "cell_type": "code",
      "metadata": {
        "id": "ENdJtIMAlq71",
        "colab_type": "code",
        "colab": {}
      },
      "source": [
        ""
      ],
      "execution_count": 0,
      "outputs": []
    },
    {
      "cell_type": "markdown",
      "metadata": {
        "id": "3bIfGaeIP2kE",
        "colab_type": "text"
      },
      "source": [
        "## Using Logical Operators\n",
        "* You use the comparison operators (<, <=, >, >=, == and !=) to compare two values in one condition\n",
        "* You can combine two conditions or reverse the value of a condition using logical operators\n",
        "\n",
        "|Combinations   | Description  |  \n",
        "|---|---|\n",
        "|a and b| if both condition a and condition b are true, the result is true; otherwise, it’s false  |    \n",
        "|a or b   | f either condition a or condition b is true, the result is true; otherwise, it’s false  |     \n",
        "|not a   | if a is true, then the result is false; and vice versa|   \n",
        "\n",
        "## Extending the First Example\n",
        "* Let’s extend our first example using `and` to ignore cases. \n",
        "\n",
        "\t"
      ]
    },
    {
      "cell_type": "code",
      "metadata": {
        "id": "yi5Kmm3BRKOH",
        "colab_type": "code",
        "outputId": "ff089281-ef6c-4ec4-d0ae-82f602dd2072",
        "colab": {
          "base_uri": "https://localhost:8080/",
          "height": 74
        }
      },
      "source": [
        "print(\"This is a great course!\")\n",
        "\n",
        "response = 'n'\n",
        "\n",
        "while response != 'y' and response != 'Y':\n",
        "      \n",
        "  response = input('Do you agree? (y/n) ')\n",
        "\n",
        "\n",
        "print(\"Good job!\")"
      ],
      "execution_count": 0,
      "outputs": [
        {
          "output_type": "stream",
          "text": [
            "This is a great course!\n"
          ],
          "name": "stdout"
        }
      ]
    },
    {
      "cell_type": "code",
      "metadata": {
        "id": "Pelkf-RvVQo3",
        "colab_type": "code",
        "colab": {}
      },
      "source": [
        ""
      ],
      "execution_count": 0,
      "outputs": []
    },
    {
      "cell_type": "markdown",
      "metadata": {
        "id": "bHoOQl53Rtt1",
        "colab_type": "text"
      },
      "source": [
        "## An Eating Candy Example\n",
        "* The program shown below uses a while loop to repeatedly buy candy bars until there is not enough money to buy more\n"
      ]
    },
    {
      "cell_type": "code",
      "metadata": {
        "id": "4pPOngcJR2J4",
        "colab_type": "code",
        "outputId": "d2f08b29-9385-47e3-eea2-c30cffa06fe0",
        "colab": {
          "base_uri": "https://localhost:8080/",
          "height": 263
        }
      },
      "source": [
        "money_in_pocket = 30  # Money in the pocket initially\n",
        "cost_of_candy_bar = 5\n",
        "\n",
        "# The loop runs while there is enough money to buy a candy bar\n",
        "while money_in_pocket >= cost_of_candy_bar:\n",
        "    print(\"I have $\", money_in_pocket)\n",
        "    print(\"I am buying and eating a delicious candy bar!\")\n",
        "\n",
        "    money_in_pocket = money_in_pocket - cost_of_candy_bar\n",
        "\n",
        "print(\"Now, I only have $\", money_in_pocket, \"left.\")\n",
        "print(\"I don't have enough money for any more candy :(\")\n"
      ],
      "execution_count": 0,
      "outputs": [
        {
          "output_type": "stream",
          "text": [
            "I have $ 30\n",
            "I am buying and eating a delicious candy bar!\n",
            "I have $ 25\n",
            "I am buying and eating a delicious candy bar!\n",
            "I have $ 20\n",
            "I am buying and eating a delicious candy bar!\n",
            "I have $ 15\n",
            "I am buying and eating a delicious candy bar!\n",
            "I have $ 10\n",
            "I am buying and eating a delicious candy bar!\n",
            "I have $ 5\n",
            "I am buying and eating a delicious candy bar!\n",
            "Now, I only have $ 0 left.\n",
            "I don't have enough money for any more candy :(\n"
          ],
          "name": "stdout"
        }
      ]
    },
    {
      "cell_type": "markdown",
      "metadata": {
        "id": "TwRJ-94KSF7k",
        "colab_type": "text"
      },
      "source": [
        "###In this example, $7 has been used to buy one candy bar each time inside the while loop\n",
        "\n",
        "## An Improved Candy Example\n",
        "\n",
        "* Let’s improve the eating candy example to include the number of candy bars that are bought\n",
        "* First, a variable to count the number of candy bars is added at the top of the program, like this:\n",
        "`candy_bars_eaten = 0`\n",
        "* Then inside the while loop, the variable is increased by one, like this:\n",
        "`candy_bars_eaten = candy_bars_eaten + 1` \n"
      ]
    },
    {
      "cell_type": "code",
      "metadata": {
        "id": "FoQB2Q-ASZda",
        "colab_type": "code",
        "outputId": "ac5e8fc1-1a91-41c9-9cb9-57d0718af0c7",
        "colab": {
          "base_uri": "https://localhost:8080/",
          "height": 211
        }
      },
      "source": [
        "money_in_pocket = 30\n",
        "cost_of_candy_bar = 7\n",
        "candy_bars_eaten = 0\n",
        "\n",
        "# No more than 3 candies\n",
        "while money_in_pocket >= cost_of_candy_bar and candy_bars_eaten < 3:\n",
        "    print(\"I have $\", money_in_pocket)\n",
        "    print(\"I am buying and eating a delicious candy bar!\")\n",
        "\n",
        "    money_in_pocket = money_in_pocket - cost_of_candy_bar\n",
        "    candy_bars_eaten = candy_bars_eaten + 1\n",
        "    \n",
        "    print(\"I have eaten\", candy_bars_eaten, \"candy bars.\")\n",
        "\n",
        "\n",
        "        \n",
        "print(\"Now, I only have $\", money_in_pocket, \"left.\")\n",
        "print(\"I don't have enough money for any more candy :(\")\n"
      ],
      "execution_count": 0,
      "outputs": [
        {
          "output_type": "stream",
          "text": [
            "I have $ 30\n",
            "I am buying and eating a delicious candy bar!\n",
            "I have eaten 1 candy bars.\n",
            "I have $ 23\n",
            "I am buying and eating a delicious candy bar!\n",
            "I have eaten 2 candy bars.\n",
            "I have $ 16\n",
            "I am buying and eating a delicious candy bar!\n",
            "I have eaten 3 candy bars.\n",
            "Now, I only have $ 9 left.\n",
            "I don't have enough money for any more candy :(\n"
          ],
          "name": "stdout"
        }
      ]
    },
    {
      "cell_type": "markdown",
      "metadata": {
        "id": "3odZTiQihoZK",
        "colab_type": "text"
      },
      "source": [
        ""
      ]
    },
    {
      "cell_type": "markdown",
      "metadata": {
        "id": "1uZYfF4hSf_Z",
        "colab_type": "text"
      },
      "source": [
        "## A Math Question Example\n",
        "* Here is an example which shows a math question to the user\n",
        "* To finish the program the user has to guess the correct answer\n",
        "* This is because the while loop does not stop when guess is not equal to answer\n",
        "* In other words, guess must be equal to answer to finish the game\n"
      ]
    },
    {
      "cell_type": "code",
      "metadata": {
        "id": "iFV8X79nSkvD",
        "colab_type": "code",
        "colab": {}
      },
      "source": [
        "import random\n",
        "\n",
        "# Generate two random numbers between 1 and 99\n",
        "number1 = random.randint(1,2)\n",
        "number2 = random.randint(1,1)\n",
        "\n",
        "answer = number1 + number2\n",
        "\n",
        "guess = 0 \n",
        "# The user guesses the answer inside the while loop\n",
        "while guess != answer:\n",
        "    print(\"What is\", number1, \"+\", number2)\n",
        "    guess = input(\"? \")\n",
        "    guess = int(guess) \n",
        "    \n",
        "\n",
        "    \n",
        "        \n",
        "print(\"You are right!\")\n"
      ],
      "execution_count": 0,
      "outputs": []
    },
    {
      "cell_type": "markdown",
      "metadata": {
        "id": "DYbNk1mCTSu1",
        "colab_type": "text"
      },
      "source": [
        "## Multiple Line Comments\n",
        "* You may have seen some comments at the top of our example files which look like this:\n",
        "```python\n",
        "\"\"\"\n",
        "In this example the user has to enter the\n",
        "result of adding two numbers.\n",
        "We use a while loop to repeatedly ask for\n",
        "the answer until the user gets it correct.\n",
        "\"\"\"\n",
        "```\n",
        "* When you want to write a big comment, you can use `\"\"\"` comments `\"\"\"` , instead of starting every line of your comment with a `#`\n",
        "\n",
        "## Nested Loops\n",
        "* A nested loop is a loop within a loop\n",
        "![image](https://user-images.githubusercontent.com/901975/64469679-1ecc7d80-d169-11e9-81f7-aa79764aedd4.png)\n",
        "\n",
        "## A Nested Loops Example\n",
        "* The program will not stop asking you math questions (because of the infinite loop!)\n",
        "* One way to stop the program is by pressing Control-C (in your PC)\n",
        "\n"
      ]
    },
    {
      "cell_type": "code",
      "metadata": {
        "id": "W8Eb6Xu-UEuQ",
        "colab_type": "code",
        "outputId": "c337b904-5b6f-410c-8f33-479972a46df0",
        "colab": {
          "base_uri": "https://localhost:8080/",
          "height": 740
        }
      },
      "source": [
        "import random\n",
        "\n",
        "# This code asks random math questions indefinitely \n",
        "# because the loop never stops\n",
        "while True:\n",
        "    number1 = random.randint(1, 9)\n",
        "    number2 = random.randint(1, 9)\n",
        "\n",
        "    answer = number1 + number2\n",
        "    guess = 0\n",
        "\n",
        "    while guess != answer:\n",
        "        print(\"What is\",number1,\"+\",number2)\n",
        "        guess = input(\"? \")\n",
        "        guess = int(guess)\n",
        "        \n",
        "    print(\"You are right!\")\n"
      ],
      "execution_count": 0,
      "outputs": [
        {
          "output_type": "stream",
          "text": [
            "What is 4 + 5\n",
            "? 9\n",
            "You are right!\n",
            "What is 2 + 9\n",
            "? 11\n",
            "You are right!\n",
            "What is 6 + 7\n",
            "? 13\n",
            "You are right!\n",
            "What is 9 + 4\n"
          ],
          "name": "stdout"
        },
        {
          "output_type": "error",
          "ename": "KeyboardInterrupt",
          "evalue": "ignored",
          "traceback": [
            "\u001b[0;31m---------------------------------------------------------------------------\u001b[0m",
            "\u001b[0;31mKeyboardInterrupt\u001b[0m                         Traceback (most recent call last)",
            "\u001b[0;32m/usr/local/lib/python3.6/dist-packages/ipykernel/kernelbase.py\u001b[0m in \u001b[0;36m_input_request\u001b[0;34m(self, prompt, ident, parent, password)\u001b[0m\n\u001b[1;32m    729\u001b[0m             \u001b[0;32mtry\u001b[0m\u001b[0;34m:\u001b[0m\u001b[0;34m\u001b[0m\u001b[0;34m\u001b[0m\u001b[0m\n\u001b[0;32m--> 730\u001b[0;31m                 \u001b[0mident\u001b[0m\u001b[0;34m,\u001b[0m \u001b[0mreply\u001b[0m \u001b[0;34m=\u001b[0m \u001b[0mself\u001b[0m\u001b[0;34m.\u001b[0m\u001b[0msession\u001b[0m\u001b[0;34m.\u001b[0m\u001b[0mrecv\u001b[0m\u001b[0;34m(\u001b[0m\u001b[0mself\u001b[0m\u001b[0;34m.\u001b[0m\u001b[0mstdin_socket\u001b[0m\u001b[0;34m,\u001b[0m \u001b[0;36m0\u001b[0m\u001b[0;34m)\u001b[0m\u001b[0;34m\u001b[0m\u001b[0;34m\u001b[0m\u001b[0m\n\u001b[0m\u001b[1;32m    731\u001b[0m             \u001b[0;32mexcept\u001b[0m \u001b[0mException\u001b[0m\u001b[0;34m:\u001b[0m\u001b[0;34m\u001b[0m\u001b[0;34m\u001b[0m\u001b[0m\n",
            "\u001b[0;32m/usr/local/lib/python3.6/dist-packages/jupyter_client/session.py\u001b[0m in \u001b[0;36mrecv\u001b[0;34m(self, socket, mode, content, copy)\u001b[0m\n\u001b[1;32m    802\u001b[0m         \u001b[0;32mtry\u001b[0m\u001b[0;34m:\u001b[0m\u001b[0;34m\u001b[0m\u001b[0;34m\u001b[0m\u001b[0m\n\u001b[0;32m--> 803\u001b[0;31m             \u001b[0mmsg_list\u001b[0m \u001b[0;34m=\u001b[0m \u001b[0msocket\u001b[0m\u001b[0;34m.\u001b[0m\u001b[0mrecv_multipart\u001b[0m\u001b[0;34m(\u001b[0m\u001b[0mmode\u001b[0m\u001b[0;34m,\u001b[0m \u001b[0mcopy\u001b[0m\u001b[0;34m=\u001b[0m\u001b[0mcopy\u001b[0m\u001b[0;34m)\u001b[0m\u001b[0;34m\u001b[0m\u001b[0;34m\u001b[0m\u001b[0m\n\u001b[0m\u001b[1;32m    804\u001b[0m         \u001b[0;32mexcept\u001b[0m \u001b[0mzmq\u001b[0m\u001b[0;34m.\u001b[0m\u001b[0mZMQError\u001b[0m \u001b[0;32mas\u001b[0m \u001b[0me\u001b[0m\u001b[0;34m:\u001b[0m\u001b[0;34m\u001b[0m\u001b[0;34m\u001b[0m\u001b[0m\n",
            "\u001b[0;32m/usr/local/lib/python3.6/dist-packages/zmq/sugar/socket.py\u001b[0m in \u001b[0;36mrecv_multipart\u001b[0;34m(self, flags, copy, track)\u001b[0m\n\u001b[1;32m    465\u001b[0m         \"\"\"\n\u001b[0;32m--> 466\u001b[0;31m         \u001b[0mparts\u001b[0m \u001b[0;34m=\u001b[0m \u001b[0;34m[\u001b[0m\u001b[0mself\u001b[0m\u001b[0;34m.\u001b[0m\u001b[0mrecv\u001b[0m\u001b[0;34m(\u001b[0m\u001b[0mflags\u001b[0m\u001b[0;34m,\u001b[0m \u001b[0mcopy\u001b[0m\u001b[0;34m=\u001b[0m\u001b[0mcopy\u001b[0m\u001b[0;34m,\u001b[0m \u001b[0mtrack\u001b[0m\u001b[0;34m=\u001b[0m\u001b[0mtrack\u001b[0m\u001b[0;34m)\u001b[0m\u001b[0;34m]\u001b[0m\u001b[0;34m\u001b[0m\u001b[0;34m\u001b[0m\u001b[0m\n\u001b[0m\u001b[1;32m    467\u001b[0m         \u001b[0;31m# have first part already, only loop while more to receive\u001b[0m\u001b[0;34m\u001b[0m\u001b[0;34m\u001b[0m\u001b[0;34m\u001b[0m\u001b[0m\n",
            "\u001b[0;32mzmq/backend/cython/socket.pyx\u001b[0m in \u001b[0;36mzmq.backend.cython.socket.Socket.recv\u001b[0;34m()\u001b[0m\n",
            "\u001b[0;32mzmq/backend/cython/socket.pyx\u001b[0m in \u001b[0;36mzmq.backend.cython.socket.Socket.recv\u001b[0;34m()\u001b[0m\n",
            "\u001b[0;32mzmq/backend/cython/socket.pyx\u001b[0m in \u001b[0;36mzmq.backend.cython.socket._recv_copy\u001b[0;34m()\u001b[0m\n",
            "\u001b[0;32m/usr/local/lib/python3.6/dist-packages/zmq/backend/cython/checkrc.pxd\u001b[0m in \u001b[0;36mzmq.backend.cython.checkrc._check_rc\u001b[0;34m()\u001b[0m\n",
            "\u001b[0;31mKeyboardInterrupt\u001b[0m: ",
            "\nDuring handling of the above exception, another exception occurred:\n",
            "\u001b[0;31mKeyboardInterrupt\u001b[0m                         Traceback (most recent call last)",
            "\u001b[0;32m<ipython-input-17-f242bc2c54f8>\u001b[0m in \u001b[0;36m<module>\u001b[0;34m()\u001b[0m\n\u001b[1;32m     12\u001b[0m     \u001b[0;32mwhile\u001b[0m \u001b[0mguess\u001b[0m \u001b[0;34m!=\u001b[0m \u001b[0manswer\u001b[0m\u001b[0;34m:\u001b[0m\u001b[0;34m\u001b[0m\u001b[0;34m\u001b[0m\u001b[0m\n\u001b[1;32m     13\u001b[0m         \u001b[0mprint\u001b[0m\u001b[0;34m(\u001b[0m\u001b[0;34m\"What is\"\u001b[0m\u001b[0;34m,\u001b[0m\u001b[0mnumber1\u001b[0m\u001b[0;34m,\u001b[0m\u001b[0;34m\"+\"\u001b[0m\u001b[0;34m,\u001b[0m\u001b[0mnumber2\u001b[0m\u001b[0;34m)\u001b[0m\u001b[0;34m\u001b[0m\u001b[0;34m\u001b[0m\u001b[0m\n\u001b[0;32m---> 14\u001b[0;31m         \u001b[0mguess\u001b[0m \u001b[0;34m=\u001b[0m \u001b[0minput\u001b[0m\u001b[0;34m(\u001b[0m\u001b[0;34m\"? \"\u001b[0m\u001b[0;34m)\u001b[0m\u001b[0;34m\u001b[0m\u001b[0;34m\u001b[0m\u001b[0m\n\u001b[0m\u001b[1;32m     15\u001b[0m         \u001b[0mguess\u001b[0m \u001b[0;34m=\u001b[0m \u001b[0mint\u001b[0m\u001b[0;34m(\u001b[0m\u001b[0mguess\u001b[0m\u001b[0;34m)\u001b[0m\u001b[0;34m\u001b[0m\u001b[0;34m\u001b[0m\u001b[0m\n\u001b[1;32m     16\u001b[0m \u001b[0;34m\u001b[0m\u001b[0m\n",
            "\u001b[0;32m/usr/local/lib/python3.6/dist-packages/ipykernel/kernelbase.py\u001b[0m in \u001b[0;36mraw_input\u001b[0;34m(self, prompt)\u001b[0m\n\u001b[1;32m    703\u001b[0m             \u001b[0mself\u001b[0m\u001b[0;34m.\u001b[0m\u001b[0m_parent_ident\u001b[0m\u001b[0;34m,\u001b[0m\u001b[0;34m\u001b[0m\u001b[0;34m\u001b[0m\u001b[0m\n\u001b[1;32m    704\u001b[0m             \u001b[0mself\u001b[0m\u001b[0;34m.\u001b[0m\u001b[0m_parent_header\u001b[0m\u001b[0;34m,\u001b[0m\u001b[0;34m\u001b[0m\u001b[0;34m\u001b[0m\u001b[0m\n\u001b[0;32m--> 705\u001b[0;31m             \u001b[0mpassword\u001b[0m\u001b[0;34m=\u001b[0m\u001b[0;32mFalse\u001b[0m\u001b[0;34m,\u001b[0m\u001b[0;34m\u001b[0m\u001b[0;34m\u001b[0m\u001b[0m\n\u001b[0m\u001b[1;32m    706\u001b[0m         )\n\u001b[1;32m    707\u001b[0m \u001b[0;34m\u001b[0m\u001b[0m\n",
            "\u001b[0;32m/usr/local/lib/python3.6/dist-packages/ipykernel/kernelbase.py\u001b[0m in \u001b[0;36m_input_request\u001b[0;34m(self, prompt, ident, parent, password)\u001b[0m\n\u001b[1;32m    733\u001b[0m             \u001b[0;32mexcept\u001b[0m \u001b[0mKeyboardInterrupt\u001b[0m\u001b[0;34m:\u001b[0m\u001b[0;34m\u001b[0m\u001b[0;34m\u001b[0m\u001b[0m\n\u001b[1;32m    734\u001b[0m                 \u001b[0;31m# re-raise KeyboardInterrupt, to truncate traceback\u001b[0m\u001b[0;34m\u001b[0m\u001b[0;34m\u001b[0m\u001b[0;34m\u001b[0m\u001b[0m\n\u001b[0;32m--> 735\u001b[0;31m                 \u001b[0;32mraise\u001b[0m \u001b[0mKeyboardInterrupt\u001b[0m\u001b[0;34m\u001b[0m\u001b[0;34m\u001b[0m\u001b[0m\n\u001b[0m\u001b[1;32m    736\u001b[0m             \u001b[0;32melse\u001b[0m\u001b[0;34m:\u001b[0m\u001b[0;34m\u001b[0m\u001b[0;34m\u001b[0m\u001b[0m\n\u001b[1;32m    737\u001b[0m                 \u001b[0;32mbreak\u001b[0m\u001b[0;34m\u001b[0m\u001b[0;34m\u001b[0m\u001b[0m\n",
            "\u001b[0;31mKeyboardInterrupt\u001b[0m: "
          ]
        }
      ]
    },
    {
      "cell_type": "markdown",
      "metadata": {
        "id": "TgWQRUdTUjs8",
        "colab_type": "text"
      },
      "source": [
        "## Improving the Example\n",
        "* It is not very nice when the user has to use Control-C to stop a program\n",
        "* Let’s put a proper condition in the outer loop of the example\n",
        "* We will only ask three different math questions in the program\n",
        "* To do that, we use a variable to keep track of the number of questions the user have answered correctly so far\n"
      ]
    },
    {
      "cell_type": "code",
      "metadata": {
        "id": "t-VywQ70UxJD",
        "colab_type": "code",
        "outputId": "c44620cf-7623-44d2-fe54-7084c1095183",
        "colab": {
          "base_uri": "https://localhost:8080/",
          "height": 228
        }
      },
      "source": [
        "import random\n",
        "\n",
        "number_of_questions_so_far = 0\n",
        "\n",
        "while number_of_questions_so_far < 3:\n",
        "    number1 = random.randint(1, 9)\n",
        "    number2 = random.randint(1, 9)\n",
        "\n",
        "    answer = number1 + number2\n",
        "    guess = 0\n",
        "\n",
        "    while guess != answer:\n",
        "        print(\"What is\", number1, \"+\", number2)\n",
        "        guess = \"35\"\n",
        "        guess = int(guess)\n",
        "        \n",
        "        if (guess == 10) \n",
        "            print(\"10??\")\n",
        "        \n",
        "    print(\"You are right!\")\n",
        "\n",
        "    number_of_questions_so_far = number_of_questions_so_far + 1\n",
        "\n",
        "print(\"You finished three qestions! Good job!!\")\n"
      ],
      "execution_count": 0,
      "outputs": [
        {
          "output_type": "stream",
          "text": [
            "What is 4 + 8\n",
            "? 11\n",
            "What is 4 + 8\n",
            "? 12\n",
            "You are right!\n",
            "What is 2 + 1\n",
            "? 3\n",
            "You are right!\n",
            "What is 4 + 6\n",
            "? 10\n",
            "You are right!\n",
            "You finished three qestions! Good job!!\n"
          ],
          "name": "stdout"
        }
      ]
    },
    {
      "cell_type": "markdown",
      "metadata": {
        "id": "ZTBEST-UU0w_",
        "colab_type": "text"
      },
      "source": [
        "\n",
        "## Excercise\n",
        "* Better way to finish the game?\n",
        "  * Wrong answer n times?\n",
        "  * Non integer input?\n",
        "  "
      ]
    },
    {
      "cell_type": "code",
      "metadata": {
        "id": "Le6bBNymVAgA",
        "colab_type": "code",
        "colab": {}
      },
      "source": [
        ""
      ],
      "execution_count": 0,
      "outputs": []
    }
  ]
}